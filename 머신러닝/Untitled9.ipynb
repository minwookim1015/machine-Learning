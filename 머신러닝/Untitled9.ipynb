{
 "cells": [
  {
   "cell_type": "code",
   "execution_count": 2,
   "id": "0d633b08-e7f9-4d2e-93d0-3fe8db14b1aa",
   "metadata": {},
   "outputs": [],
   "source": [
    "import pandas as pd \n",
    "wine=pd.read_csv('https://bit.ly/wine_csv_data')\n",
    "data=wine[['alcohol','sugar','pH']]\n",
    "target=wine['class']\n",
    "\n",
    "from sklearn.model_selection import train_test_split\n",
    "train_input,test_input,train_target,test_target=train_test_split(data,target,test_size=0.2,random_state=42)\n",
    "sub_input,val_input,sub_target,val_target=train_test_split(train_input,train_target,test_size=0.2,random_state=42)"
   ]
  },
  {
   "cell_type": "code",
   "execution_count": 4,
   "id": "9bd43072-7a04-402f-80c0-f1744290f2a3",
   "metadata": {},
   "outputs": [
    {
     "name": "stdout",
     "output_type": "stream",
     "text": [
      "0.9971133028626413\n",
      "0.864423076923077\n",
      "{'fit_time': array([0.02254891, 0.02526331, 0.01326632, 0.02175498, 0.01485896]), 'score_time': array([0.00349784, 0.00400019, 0.00299239, 0.00202608, 0.00199509]), 'test_score': array([0.86923077, 0.84615385, 0.87680462, 0.84889317, 0.83541867])}\n",
      "0.855300214703487\n"
     ]
    }
   ],
   "source": [
    "from sklearn.tree import DecisionTreeClassifier\n",
    "dt=DecisionTreeClassifier(random_state=42)\n",
    "dt.fit(sub_input,sub_target)\n",
    "print(dt.score(sub_input,sub_target))\n",
    "print(dt.score(val_input,val_target))\n",
    "\n",
    "from sklearn.model_selection import cross_validate\n",
    "scores=cross_validate(dt,train_input,train_target)\n",
    "print(scores)\n",
    "\n",
    "import numpy as np\n",
    "print(np.mean(scores['test_score']))"
   ]
  },
  {
   "cell_type": "code",
   "execution_count": null,
   "id": "aa6dc54d-cdb7-4e03-be92-6064d41bb68e",
   "metadata": {},
   "outputs": [],
   "source": []
  },
  {
   "cell_type": "code",
   "execution_count": null,
   "id": "0af8a07f-b0c3-4f4e-be33-4b322db574e6",
   "metadata": {},
   "outputs": [],
   "source": []
  }
 ],
 "metadata": {
  "kernelspec": {
   "display_name": "KER",
   "language": "python",
   "name": "xai"
  },
  "language_info": {
   "codemirror_mode": {
    "name": "ipython",
    "version": 3
   },
   "file_extension": ".py",
   "mimetype": "text/x-python",
   "name": "python",
   "nbconvert_exporter": "python",
   "pygments_lexer": "ipython3",
   "version": "3.12.0"
  }
 },
 "nbformat": 4,
 "nbformat_minor": 5
}
